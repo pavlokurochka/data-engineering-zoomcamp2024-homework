{
 "cells": [
  {
   "cell_type": "code",
   "execution_count": 1,
   "metadata": {},
   "outputs": [],
   "source": [
    "import pyspark\n",
    "from pyspark.sql import SparkSession"
   ]
  },
  {
   "cell_type": "code",
   "execution_count": 2,
   "metadata": {},
   "outputs": [
    {
     "name": "stderr",
     "output_type": "stream",
     "text": [
      "your 131072x1 screen size is bogus. expect trouble\n"
     ]
    },
    {
     "name": "stdout",
     "output_type": "stream",
     "text": [
      "24/02/27 14:00:41 WARN Utils: Your hostname, AspireA51556 resolves to a loopback address: 127.0.1.1; using 172.31.241.142 instead (on interface eth0)\n",
      "24/02/27 14:00:41 WARN Utils: Set SPARK_LOCAL_IP if you need to bind to another address\n"
     ]
    },
    {
     "name": "stderr",
     "output_type": "stream",
     "text": [
      "Setting default log level to \"WARN\".\n",
      "To adjust logging level use sc.setLogLevel(newLevel). For SparkR, use setLogLevel(newLevel).\n"
     ]
    },
    {
     "name": "stdout",
     "output_type": "stream",
     "text": [
      "24/02/27 14:00:42 WARN NativeCodeLoader: Unable to load native-hadoop library for your platform... using builtin-java classes where applicable\n",
      "24/02/27 14:00:44 WARN Utils: Service 'SparkUI' could not bind on port 4040. Attempting port 4041.\n"
     ]
    }
   ],
   "source": [
    "spark = SparkSession.builder \\\n",
    "    .master(\"local[*]\") \\\n",
    "    .appName('test') \\\n",
    "    .getOrCreate()"
   ]
  },
  {
   "cell_type": "code",
   "execution_count": 4,
   "metadata": {},
   "outputs": [
    {
     "name": "stderr",
     "output_type": "stream",
     "text": [
      "                                                                                \r"
     ]
    }
   ],
   "source": [
    "df = spark.read.parquet('code/data/fhv_tripdata_2019-10.parquet')"
   ]
  },
  {
   "cell_type": "code",
   "execution_count": 6,
   "metadata": {},
   "outputs": [
    {
     "name": "stderr",
     "output_type": "stream",
     "text": [
      "                                                                                \r"
     ]
    }
   ],
   "source": [
    "df.repartition(6).write.parquet(\"code/pq/fhv/2019/10\", mode='overwrite')"
   ]
  },
  {
   "cell_type": "code",
   "execution_count": 7,
   "metadata": {},
   "outputs": [],
   "source": [
    "df = spark.read.parquet(\"code/pq/fhv/2019/10\")"
   ]
  },
  {
   "cell_type": "code",
   "execution_count": 8,
   "metadata": {},
   "outputs": [
    {
     "data": {
      "text/plain": [
       "['dispatching_base_num',\n",
       " 'pickup_datetime',\n",
       " 'dropOff_datetime',\n",
       " 'PUlocationID',\n",
       " 'DOlocationID',\n",
       " 'SR_Flag',\n",
       " 'Affiliated_base_number']"
      ]
     },
     "execution_count": 8,
     "metadata": {},
     "output_type": "execute_result"
    }
   ],
   "source": [
    "df.columns"
   ]
  },
  {
   "cell_type": "code",
   "execution_count": 9,
   "metadata": {},
   "outputs": [
    {
     "name": "stderr",
     "output_type": "stream",
     "text": [
      "/home/pavlo/spark/spark-3.3.2-bin-hadoop3/python/pyspark/sql/dataframe.py:229: FutureWarning: Deprecated in 2.0, use createOrReplaceTempView instead.\n",
      "  warnings.warn(\"Deprecated in 2.0, use createOrReplaceTempView instead.\", FutureWarning)\n"
     ]
    }
   ],
   "source": [
    "df.registerTempTable('fhv')"
   ]
  },
  {
   "cell_type": "code",
   "execution_count": 11,
   "metadata": {},
   "outputs": [
    {
     "name": "stderr",
     "output_type": "stream",
     "text": [
      "[Stage 11:=========>                                                (1 + 5) / 6]\r"
     ]
    },
    {
     "name": "stdout",
     "output_type": "stream",
     "text": [
      "+-------------------+------+\n",
      "|         pickup_day|count_|\n",
      "+-------------------+------+\n",
      "|2019-09-30 00:00:00|  7430|\n",
      "|2019-10-01 00:00:00| 60263|\n",
      "|2019-10-02 00:00:00| 69378|\n",
      "|2019-10-03 00:00:00| 71503|\n",
      "|2019-10-04 00:00:00| 68816|\n",
      "|2019-10-05 00:00:00| 52365|\n",
      "|2019-10-06 00:00:00| 45090|\n",
      "|2019-10-07 00:00:00| 65876|\n",
      "|2019-10-08 00:00:00| 63540|\n",
      "|2019-10-09 00:00:00| 61060|\n",
      "|2019-10-10 00:00:00| 69083|\n",
      "|2019-10-11 00:00:00| 67712|\n",
      "|2019-10-12 00:00:00| 52189|\n",
      "|2019-10-13 00:00:00| 44486|\n",
      "|2019-10-14 00:00:00| 52457|\n",
      "|2019-10-15 00:00:00| 63154|\n",
      "|2019-10-16 00:00:00| 68172|\n",
      "|2019-10-17 00:00:00| 68280|\n",
      "|2019-10-18 00:00:00| 68440|\n",
      "|2019-10-19 00:00:00| 53371|\n",
      "+-------------------+------+\n",
      "only showing top 20 rows\n",
      "\n"
     ]
    },
    {
     "name": "stderr",
     "output_type": "stream",
     "text": [
      "                                                                                \r"
     ]
    }
   ],
   "source": [
    "spark.sql(\"\"\"\n",
    "SELECT\n",
    "      date_trunc('day', pickup_datetime) AS pickup_day, \n",
    "    count(1) count_\n",
    "FROM\n",
    "    fhv\n",
    "GROUP BY \n",
    "    date_trunc('day', pickup_datetime)\n",
    "order  BY \n",
    "    date_trunc('day', pickup_datetime)          \n",
    "\"\"\").show()"
   ]
  },
  {
   "cell_type": "code",
   "execution_count": 14,
   "metadata": {},
   "outputs": [
    {
     "name": "stdout",
     "output_type": "stream",
     "text": [
      "+------------+\n",
      "|longest_trip|\n",
      "+------------+\n",
      "|  3.786915E7|\n",
      "+------------+\n",
      "\n"
     ]
    },
    {
     "name": "stderr",
     "output_type": "stream",
     "text": [
      "                                                                                \r"
     ]
    }
   ],
   "source": [
    "spark.sql(\"\"\"\n",
    "SELECT\n",
    " max( bigint(to_timestamp(dropOff_datetime)) -\n",
    "          bigint(to_timestamp(pickup_datetime)))/60 longest_trip\n",
    "FROM\n",
    "    fhv     \n",
    "\"\"\").show()"
   ]
  },
  {
   "cell_type": "code",
   "execution_count": 15,
   "metadata": {},
   "outputs": [],
   "source": [
    "dfz = (\n",
    "    spark.read.option(\"header\", \"true\")\n",
    "    .csv(\"code/data/taxi_zone_lookup.csv\")\n",
    ")"
   ]
  },
  {
   "cell_type": "code",
   "execution_count": 16,
   "metadata": {},
   "outputs": [
    {
     "data": {
      "text/plain": [
       "['LocationID', 'Borough', 'Zone', 'service_zone']"
      ]
     },
     "execution_count": 16,
     "metadata": {},
     "output_type": "execute_result"
    }
   ],
   "source": [
    "dfz.columns"
   ]
  },
  {
   "cell_type": "code",
   "execution_count": 30,
   "metadata": {},
   "outputs": [
    {
     "name": "stderr",
     "output_type": "stream",
     "text": [
      "/home/pavlo/spark/spark-3.3.2-bin-hadoop3/python/pyspark/sql/dataframe.py:229: FutureWarning: Deprecated in 2.0, use createOrReplaceTempView instead.\n",
      "  warnings.warn(\"Deprecated in 2.0, use createOrReplaceTempView instead.\", FutureWarning)\n"
     ]
    },
    {
     "ename": "ModuleNotFoundError",
     "evalue": "No module named 'org'",
     "output_type": "error",
     "traceback": [
      "\u001b[0;31m---------------------------------------------------------------------------\u001b[0m",
      "\u001b[0;31mModuleNotFoundError\u001b[0m                       Traceback (most recent call last)",
      "Cell \u001b[0;32mIn[30], line 2\u001b[0m\n\u001b[1;32m      1\u001b[0m dfz\u001b[38;5;241m.\u001b[39mregisterTempTable(\u001b[38;5;124m'\u001b[39m\u001b[38;5;124mzones\u001b[39m\u001b[38;5;124m'\u001b[39m)\n\u001b[0;32m----> 2\u001b[0m \u001b[38;5;28;01mimport\u001b[39;00m \u001b[38;5;21;01morg\u001b[39;00m\u001b[38;5;21;01m.\u001b[39;00m\u001b[38;5;21;01mapache\u001b[39;00m\u001b[38;5;21;01m.\u001b[39;00m\u001b[38;5;21;01mspark\u001b[39;00m\u001b[38;5;21;01m.\u001b[39;00m\u001b[38;5;21;01msql\u001b[39;00m\u001b[38;5;21;01m.\u001b[39;00m\u001b[38;5;21;01mfunctions\u001b[39;00m\u001b[38;5;21;01m.\u001b[39;00m\u001b[38;5;21;01mdesc\u001b[39;00m\n",
      "\u001b[0;31mModuleNotFoundError\u001b[0m: No module named 'org'"
     ]
    }
   ],
   "source": [
    "dfz.registerTempTable('zones')\n"
   ]
  },
  {
   "cell_type": "code",
   "execution_count": 37,
   "metadata": {},
   "outputs": [
    {
     "name": "stdout",
     "output_type": "stream",
     "text": [
      "+--------------------+------+\n",
      "|                Zone|count_|\n",
      "+--------------------+------+\n",
      "|         Jamaica Bay|     1|\n",
      "|Governor's Island...|     2|\n",
      "| Green-Wood Cemetery|     5|\n",
      "|       Broad Channel|     8|\n",
      "|     Highbridge Park|    14|\n",
      "|        Battery Park|    15|\n",
      "|Saint Michaels Ce...|    23|\n",
      "|Breezy Point/Fort...|    25|\n",
      "|Marine Park/Floyd...|    26|\n",
      "|        Astoria Park|    29|\n",
      "|    Inwood Hill Park|    39|\n",
      "|       Willets Point|    47|\n",
      "|Forest Park/Highl...|    53|\n",
      "|  Brooklyn Navy Yard|    57|\n",
      "|        Crotona Park|    62|\n",
      "|        Country Club|    77|\n",
      "|     Freshkills Park|    89|\n",
      "|       Prospect Park|    98|\n",
      "|     Columbia Street|   105|\n",
      "|  South Williamsburg|   110|\n",
      "+--------------------+------+\n",
      "only showing top 20 rows\n",
      "\n"
     ]
    }
   ],
   "source": [
    "dfr = spark.sql(\"\"\" SELECT\n",
    "    Zone, \n",
    "    count(1) count_\n",
    "FROM\n",
    "    fhv t join zones z on t.PUlocationID = z.LocationID\n",
    "GROUP BY \n",
    "    Zone\n",
    "ORDER BY  count_\n",
    "\"\"\").show()\n",
    "# dfr.toPandas().sort_values(['count_'],)\n",
    "# dfr.toPandas().sort_values(['count_'],)"
   ]
  },
  {
   "cell_type": "code",
   "execution_count": null,
   "metadata": {},
   "outputs": [],
   "source": []
  }
 ],
 "metadata": {
  "kernelspec": {
   "display_name": "Python 3",
   "language": "python",
   "name": "python3"
  },
  "language_info": {
   "codemirror_mode": {
    "name": "ipython",
    "version": 3
   },
   "file_extension": ".py",
   "mimetype": "text/x-python",
   "name": "python",
   "nbconvert_exporter": "python",
   "pygments_lexer": "ipython3",
   "version": "3.10.12"
  }
 },
 "nbformat": 4,
 "nbformat_minor": 2
}
